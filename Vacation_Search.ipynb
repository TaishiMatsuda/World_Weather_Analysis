{
 "cells": [
  {
   "cell_type": "code",
   "execution_count": 1,
   "metadata": {},
   "outputs": [],
   "source": [
    "# importing required modules\n",
    "import pandas as pd\n",
    "import gmaps\n",
    "import requests\n",
    "from config import gmap_api_key\n",
    "\n",
    "# Reading API Keys for Google Map API\n",
    "gmaps.configure(api_key=gmap_api_key)"
   ]
  },
  {
   "cell_type": "code",
   "execution_count": 2,
   "metadata": {},
   "outputs": [
    {
     "name": "stdin",
     "output_type": "stream",
     "text": [
      "What is the minimum temperature you would like for your trip?  80\n",
      "What is the maximum temperature you would like for your trip?  90\n",
      "Do you want it to be raining? (yes/no) no\n",
      "Do you want it to be snowing? (yes/no) no\n"
     ]
    }
   ],
   "source": [
    "# Loading weather data\n",
    "city_data_df = pd.read_csv(\"data/WeatherPy_challenge.csv\")\n",
    "\n",
    "# Ask the customer to add a min temp, a max temp and a preference for weather\n",
    "min_temp = float(input(\"What is the minimum temperature you would like for your trip? \"))\n",
    "max_temp = float(input(\"What is the maximum temperature you would like for your trip? \"))\n",
    "raining = input(\"Do you want it to be raining? (yes/no)\")\n",
    "snowing = input(\"Do you want it to be snowing? (yes/no)\")"
   ]
  },
  {
   "cell_type": "code",
   "execution_count": 3,
   "metadata": {},
   "outputs": [],
   "source": [
    "# Filter the dataset to find the cities that fit the criteria\n",
    "preferred_cities_df = city_data_df.loc[(city_data_df[\"Max Temp\"] <= max_temp) & (city_data_df[\"Max Temp\"] >= min_temp)]\n",
    "\n",
    "if raining == 'yes' and snowing == 'yes':\n",
    "    preferred_cities_df = preferred_cities_df.loc[(preferred_cities_df['Rain inches (last 3hrs)'] > 0) | (preferred_cities_df['Snow inches (last 3hrs)'] > 0)]\n",
    "elif raining == 'yes' and snowing == 'no':\n",
    "    preferred_cities_df = preferred_cities_df.loc[(preferred_cities_df['Rain inches (last 3hrs)'] > 0)]\n",
    "elif raining == 'no' and snowing == 'yes':\n",
    "    preferred_cities_df = preferred_cities_df.loc[(preferred_cities_df['Snow inches (last 3hrs)'] > 0)]\n",
    "else:\n",
    "    preferred_cities_df = preferred_cities_df.loc[(preferred_cities_df['Rain inches (last 3hrs)'] == 0) | (preferred_cities_df['Snow inches (last 3hrs)'] == 0)]"
   ]
  },
  {
   "cell_type": "code",
   "execution_count": 4,
   "metadata": {},
   "outputs": [
    {
     "data": {
      "text/plain": [
       "City_ID                    118\n",
       "City                       118\n",
       "Country                    118\n",
       "Date                       118\n",
       "Lat                        118\n",
       "Lng                        118\n",
       "Max Temp                   118\n",
       "Humidity                   118\n",
       "Cloudiness                 118\n",
       "Wind Speed                 118\n",
       "Current Description        118\n",
       "Rain inches (last 3hrs)    118\n",
       "Snow inches (last 3hrs)    118\n",
       "dtype: int64"
      ]
     },
     "execution_count": 4,
     "metadata": {},
     "output_type": "execute_result"
    }
   ],
   "source": [
    "preferred_cities_df = preferred_cities_df.dropna()\n",
    "preferred_cities_df.count()"
   ]
  },
  {
   "cell_type": "code",
   "execution_count": 5,
   "metadata": {},
   "outputs": [
    {
     "data": {
      "text/html": [
       "<div>\n",
       "<style scoped>\n",
       "    .dataframe tbody tr th:only-of-type {\n",
       "        vertical-align: middle;\n",
       "    }\n",
       "\n",
       "    .dataframe tbody tr th {\n",
       "        vertical-align: top;\n",
       "    }\n",
       "\n",
       "    .dataframe thead th {\n",
       "        text-align: right;\n",
       "    }\n",
       "</style>\n",
       "<table border=\"1\" class=\"dataframe\">\n",
       "  <thead>\n",
       "    <tr style=\"text-align: right;\">\n",
       "      <th></th>\n",
       "      <th>City</th>\n",
       "      <th>Country</th>\n",
       "      <th>Max Temp</th>\n",
       "      <th>Current Description</th>\n",
       "      <th>Lat</th>\n",
       "      <th>Lng</th>\n",
       "      <th>Hotel Name</th>\n",
       "    </tr>\n",
       "  </thead>\n",
       "  <tbody>\n",
       "    <tr>\n",
       "      <th>5</th>\n",
       "      <td>Karak</td>\n",
       "      <td>JO</td>\n",
       "      <td>86.00</td>\n",
       "      <td>haze</td>\n",
       "      <td>31.17</td>\n",
       "      <td>35.75</td>\n",
       "      <td></td>\n",
       "    </tr>\n",
       "    <tr>\n",
       "      <th>14</th>\n",
       "      <td>Grand Gaube</td>\n",
       "      <td>MU</td>\n",
       "      <td>82.99</td>\n",
       "      <td>broken clouds</td>\n",
       "      <td>-20.01</td>\n",
       "      <td>57.66</td>\n",
       "      <td></td>\n",
       "    </tr>\n",
       "    <tr>\n",
       "      <th>28</th>\n",
       "      <td>Bambous Virieux</td>\n",
       "      <td>MU</td>\n",
       "      <td>82.99</td>\n",
       "      <td>broken clouds</td>\n",
       "      <td>-20.34</td>\n",
       "      <td>57.76</td>\n",
       "      <td></td>\n",
       "    </tr>\n",
       "    <tr>\n",
       "      <th>35</th>\n",
       "      <td>Lubao</td>\n",
       "      <td>PH</td>\n",
       "      <td>86.00</td>\n",
       "      <td>few clouds</td>\n",
       "      <td>14.92</td>\n",
       "      <td>120.55</td>\n",
       "      <td></td>\n",
       "    </tr>\n",
       "    <tr>\n",
       "      <th>37</th>\n",
       "      <td>Touros</td>\n",
       "      <td>BR</td>\n",
       "      <td>86.00</td>\n",
       "      <td>broken clouds</td>\n",
       "      <td>-5.20</td>\n",
       "      <td>-35.46</td>\n",
       "      <td></td>\n",
       "    </tr>\n",
       "    <tr>\n",
       "      <th>38</th>\n",
       "      <td>Dwarka</td>\n",
       "      <td>IN</td>\n",
       "      <td>80.47</td>\n",
       "      <td>clear sky</td>\n",
       "      <td>22.24</td>\n",
       "      <td>68.97</td>\n",
       "      <td></td>\n",
       "    </tr>\n",
       "    <tr>\n",
       "      <th>44</th>\n",
       "      <td>San Carlos</td>\n",
       "      <td>VE</td>\n",
       "      <td>82.15</td>\n",
       "      <td>overcast clouds</td>\n",
       "      <td>9.66</td>\n",
       "      <td>-68.58</td>\n",
       "      <td></td>\n",
       "    </tr>\n",
       "    <tr>\n",
       "      <th>52</th>\n",
       "      <td>Talavera</td>\n",
       "      <td>PH</td>\n",
       "      <td>84.20</td>\n",
       "      <td>few clouds</td>\n",
       "      <td>15.62</td>\n",
       "      <td>120.93</td>\n",
       "      <td></td>\n",
       "    </tr>\n",
       "    <tr>\n",
       "      <th>54</th>\n",
       "      <td>Kasane</td>\n",
       "      <td>BW</td>\n",
       "      <td>86.00</td>\n",
       "      <td>scattered clouds</td>\n",
       "      <td>-17.82</td>\n",
       "      <td>25.15</td>\n",
       "      <td></td>\n",
       "    </tr>\n",
       "    <tr>\n",
       "      <th>64</th>\n",
       "      <td>Anloga</td>\n",
       "      <td>GH</td>\n",
       "      <td>89.60</td>\n",
       "      <td>few clouds</td>\n",
       "      <td>5.79</td>\n",
       "      <td>0.90</td>\n",
       "      <td></td>\n",
       "    </tr>\n",
       "  </tbody>\n",
       "</table>\n",
       "</div>"
      ],
      "text/plain": [
       "               City Country  Max Temp Current Description    Lat     Lng  \\\n",
       "5             Karak      JO     86.00                haze  31.17   35.75   \n",
       "14      Grand Gaube      MU     82.99       broken clouds -20.01   57.66   \n",
       "28  Bambous Virieux      MU     82.99       broken clouds -20.34   57.76   \n",
       "35            Lubao      PH     86.00          few clouds  14.92  120.55   \n",
       "37           Touros      BR     86.00       broken clouds  -5.20  -35.46   \n",
       "38           Dwarka      IN     80.47           clear sky  22.24   68.97   \n",
       "44       San Carlos      VE     82.15     overcast clouds   9.66  -68.58   \n",
       "52         Talavera      PH     84.20          few clouds  15.62  120.93   \n",
       "54           Kasane      BW     86.00    scattered clouds -17.82   25.15   \n",
       "64           Anloga      GH     89.60          few clouds   5.79    0.90   \n",
       "\n",
       "   Hotel Name  \n",
       "5              \n",
       "14             \n",
       "28             \n",
       "35             \n",
       "37             \n",
       "38             \n",
       "44             \n",
       "52             \n",
       "54             \n",
       "64             "
      ]
     },
     "execution_count": 5,
     "metadata": {},
     "output_type": "execute_result"
    }
   ],
   "source": [
    "# Create DataFrame called hotel_df to store hotel name along with city, country, max temp and coordinate\n",
    "hotel_df = preferred_cities_df[['City','Country','Max Temp','Current Description','Lat','Lng']].copy()\n",
    "hotel_df[\"Hotel Name\"] = \"\"\n",
    "hotel_df.head(10)"
   ]
  },
  {
   "cell_type": "code",
   "execution_count": 6,
   "metadata": {},
   "outputs": [],
   "source": [
    "# Set parameters to search for a hotel.\n",
    "params = {\n",
    "    \"radius\": 5000,\n",
    "    \"type\": \"lodging\",\n",
    "    \"key\": gmap_api_key\n",
    "}"
   ]
  },
  {
   "cell_type": "code",
   "execution_count": 7,
   "metadata": {},
   "outputs": [
    {
     "name": "stdout",
     "output_type": "stream",
     "text": [
      "Micheweni : Hotel not found... skipping.\n",
      "Hobyo : Hotel not found... skipping.\n",
      "Thinadhoo : Hotel not found... skipping.\n",
      "Bondo : Hotel not found... skipping.\n",
      "Beloha : Hotel not found... skipping.\n",
      "Tamasane : Hotel not found... skipping.\n",
      "Marovoay : Hotel not found... skipping.\n",
      "Izazi : Hotel not found... skipping.\n",
      "Madimba : Hotel not found... skipping.\n",
      "Ormara : Hotel not found... skipping.\n",
      "Bonfim : Hotel not found... skipping.\n",
      "----------------------------------------\n",
      "Data Retrieval Completed\n",
      "----------------------------------------\n"
     ]
    }
   ],
   "source": [
    "# Iterate through the DataFrame.\n",
    "for index, row in hotel_df.iterrows():\n",
    "    # Get the latitude and longitude.\n",
    "    lat = row[\"Lat\"]\n",
    "    lng = row[\"Lng\"]\n",
    "\n",
    "    # Add the latitude and longitude to location key for the params dictionary.\n",
    "    params[\"location\"] = f\"{lat},{lng}\"\n",
    "\n",
    "    # Use the search term: \"lodging\" and our latitude and longitude.\n",
    "    base_url = \"https://maps.googleapis.com/maps/api/place/nearbysearch/json\"\n",
    "    # Make request and get the JSON data from the search.\n",
    "    hotels = requests.get(base_url, params=params).json()\n",
    "    # Grab the first hotel from the results and store the name.\n",
    "    try:\n",
    "        hotel_df.loc[index, \"Hotel Name\"] = hotels[\"results\"][0][\"name\"]\n",
    "    except (IndexError):\n",
    "        print(f\"{row['City']} : Hotel not found... skipping.\")\n",
    "\n",
    "print(\"----------------------------------------\")\n",
    "print(\"Data Retrieval Completed\")\n",
    "print(\"----------------------------------------\")"
   ]
  },
  {
   "cell_type": "code",
   "execution_count": 13,
   "metadata": {},
   "outputs": [],
   "source": [
    "# Create the output file (csv)\n",
    "output_data_file = \"data/WeatherPy_vacation.csv\"\n",
    "# Export the DataFrame into a csv\n",
    "hotel_df.to_csv(output_data_file, index_label=\"City_ID\")"
   ]
  },
  {
   "cell_type": "code",
   "execution_count": 10,
   "metadata": {},
   "outputs": [],
   "source": [
    "# Creating information to display with pop-up marker\n",
    "info_box_template = \"\"\"\n",
    "<dl>\n",
    "<dt>Hotel Name</dt><dd>{Hotel Name}</dd>\n",
    "<dt>City</dt><dd>{City}</dd>\n",
    "<dt>Country</dt><dd>{Country}</dd>\n",
    "<dt>Max Temp</dt><dd>{Max Temp} °F</dd>\n",
    "</dl>\n",
    "\"\"\""
   ]
  },
  {
   "cell_type": "code",
   "execution_count": 11,
   "metadata": {},
   "outputs": [],
   "source": [
    "# Store the DataFrame Row.\n",
    "hotel_info = [info_box_template.format(**row) for index, row in hotel_df.iterrows()]"
   ]
  },
  {
   "cell_type": "code",
   "execution_count": 12,
   "metadata": {},
   "outputs": [
    {
     "data": {
      "application/vnd.jupyter.widget-view+json": {
       "model_id": "58174e3b8e804c708ab1a57400741cf0",
       "version_major": 2,
       "version_minor": 0
      },
      "text/plain": [
       "Figure(layout=FigureLayout(height='420px'))"
      ]
     },
     "metadata": {},
     "output_type": "display_data"
    }
   ],
   "source": [
    "# Add a heatmap of temperature for the vacation spots and a pop-up marker for each city.\n",
    "locations = hotel_df[[\"Lat\", \"Lng\"]]\n",
    "max_temp = hotel_df[\"Max Temp\"]\n",
    "fig = gmaps.figure(center=(30.0, 31.0), zoom_level=1.5)\n",
    "#heat_layer = gmaps.heatmap_layer(locations, weights=max_temp, dissipating=False, max_intensity=300, point_radius=4)\n",
    "marker_layer = gmaps.marker_layer(locations, info_box_content=hotel_info)\n",
    "#fig.add_layer(heat_layer)\n",
    "fig.add_layer(marker_layer)\n",
    "# Call the figure to plot the data.\n",
    "fig"
   ]
  }
 ],
 "metadata": {
  "kernelspec": {
   "display_name": "PythonData",
   "language": "python",
   "name": "pythondata"
  },
  "language_info": {
   "codemirror_mode": {
    "name": "ipython",
    "version": 3
   },
   "file_extension": ".py",
   "mimetype": "text/x-python",
   "name": "python",
   "nbconvert_exporter": "python",
   "pygments_lexer": "ipython3",
   "version": "3.7.6"
  }
 },
 "nbformat": 4,
 "nbformat_minor": 4
}
